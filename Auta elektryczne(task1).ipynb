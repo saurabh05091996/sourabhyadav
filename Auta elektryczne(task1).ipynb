{
 "cells": [
  {
   "cell_type": "code",
   "execution_count": 46,
   "id": "1dac9d74-78d9-4207-a768-5efa4c44baba",
   "metadata": {
    "scrolled": true
   },
   "outputs": [
    {
     "name": "stdout",
     "output_type": "stream",
     "text": [
      "EVs under350,000 PLN with >=400 km range:\n",
      "                    Car full name          Make                       Model  Minimal price (gross) [PLN]  Range (WLTP) [km]\n",
      "  Volkswagen ID.3 Pro Performance    Volkswagen        ID.3 Pro Performance                       155890                425\n",
      "                 Kia e-Soul 64kWh           Kia                e-Soul 64kWh                       160990                452\n",
      "                 Kia e-Niro 64kWh           Kia                e-Niro 64kWh                       167990                455\n",
      "      Hyundai Kona electric 64kWh       Hyundai         Kona electric 64kWh                       178400                449\n",
      "            Volkswagen ID.3 Pro S    Volkswagen                  ID.3 Pro S                       179990                549\n",
      "Tesla Model 3 Standard Range Plus         Tesla Model 3 Standard Range Plus                       195490                430\n",
      "              Volkswagen ID.4 1st    Volkswagen                    ID.4 1st                       202390                500\n",
      "         Tesla Model 3 Long Range         Tesla          Model 3 Long Range                       235490                580\n",
      "        Tesla Model 3 Performance         Tesla         Model 3 Performance                       260490                567\n",
      "                          BMW iX3           BMW                         iX3                       282900                460\n",
      "                Mercedes-Benz EQC Mercedes-Benz                         EQC                       334700                414\n",
      "           Audi e-tron 55 quattro          Audi           e-tron 55 quattro                       345700                438\n"
     ]
    }
   ],
   "source": [
    "import pandas as pd \n",
    "df = pd.read_excel(\"FEV-data-Excel.xlsx\",sheet_name= \"Auta elektryczne\")\n",
    "\n",
    "budget = 350000\n",
    "min_range = 400\n",
    "\n",
    "filtered_evs = df[(df['Minimal price (gross) [PLN]'] <= budget) & \n",
    "    (df['Range (WLTP) [km]'] >= min_range)][['Car full name', 'Make', 'Model', 'Minimal price (gross) [PLN]', 'Range (WLTP) [km]']]\n",
    "\n",
    "filtered_evs =filtered_evs.sort_values('Minimal price (gross) [PLN]')\n",
    "\n",
    "print(f'EVs under{budget:,} PLN with >={min_range} km range:')\n",
    "print(filtered_evs.to_string(index = False))"
   ]
  },
  {
   "cell_type": "code",
   "execution_count": 20,
   "id": "062f528b-1dd4-43b6-9213-58bbb29bcd60",
   "metadata": {},
   "outputs": [
    {
     "data": {
      "text/plain": [
       "dict_keys(['Audi', 'BMW', 'Hyundai', 'Kia', 'Mercedes-Benz', 'Tesla', 'Volkswagen'])"
      ]
     },
     "execution_count": 20,
     "metadata": {},
     "output_type": "execute_result"
    }
   ],
   "source": [
    "filtered_df = df[(df['Minimal price (gross) [PLN]'] <= 350000) & (df[\"Range (WLTP) [km]\"] >= 400)]\n",
    "\n",
    "grouped_by_make = filtered_df.groupby(\"Make\")\n",
    "\n",
    "group_dict = {make:group[[\"Car full name\", \"Minimal price (gross) [PLN]\", \"Range (WLTP) [km]\"]] for make, group in grouped_by_make}\n",
    "\n",
    "group_dict.keys()"
   ]
  },
  {
   "cell_type": "code",
   "execution_count": 30,
   "id": "645000fe-49b2-4c5d-8488-1e35ba307311",
   "metadata": {},
   "outputs": [
    {
     "name": "stdout",
     "output_type": "stream",
     "text": [
      "Make\n",
      "Jaguar           90.000000\n",
      "Porsche          89.850000\n",
      "Audi             87.000000\n",
      "Tesla            86.285714\n",
      "Mercedes-Benz    85.000000\n",
      "Volkswagen       61.075000\n",
      "BMW              54.800000\n",
      "Renault          52.000000\n",
      "Kia              51.600000\n",
      "Opel             50.000000\n",
      "Peugeot          50.000000\n",
      "DS               50.000000\n",
      "Citroën          50.000000\n",
      "Nissan           47.333333\n",
      "Hyundai          47.166667\n",
      "Skoda            36.800000\n",
      "Mazda            35.500000\n",
      "Honda            35.500000\n",
      "Mini             28.900000\n",
      "Smart            17.600000\n",
      "Name: Battery capacity [kWh], dtype: float64\n"
     ]
    }
   ],
   "source": [
    "average_battery_capacity = df.groupby(\"Make\")[\"Battery capacity [kWh]\"]. mean().sort_values(ascending=False)\n",
    "\n",
    "print(average_battery_capacity)"
   ]
  }
 ],
 "metadata": {
  "kernelspec": {
   "display_name": "Python [conda env:base] *",
   "language": "python",
   "name": "conda-base-py"
  },
  "language_info": {
   "codemirror_mode": {
    "name": "ipython",
    "version": 3
   },
   "file_extension": ".py",
   "mimetype": "text/x-python",
   "name": "python",
   "nbconvert_exporter": "python",
   "pygments_lexer": "ipython3",
   "version": "3.12.7"
  }
 },
 "nbformat": 4,
 "nbformat_minor": 5
}
