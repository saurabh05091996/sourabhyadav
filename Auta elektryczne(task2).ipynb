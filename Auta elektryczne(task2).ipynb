{
 "cells": [
  {
   "cell_type": "code",
   "execution_count": 1,
   "id": "5832c208-5599-4b2f-b7f6-680a1d145d0f",
   "metadata": {},
   "outputs": [
    {
     "name": "stdout",
     "output_type": "stream",
     "text": [
      "--- Outliers in Energy Consumption (kWh/100 km) ---\n",
      "Empty DataFrame\n",
      "Columns: [Car full name, mean - Energy consumption [kWh/100 km]]\n",
      "Index: []\n",
      "\n",
      "--- Summary Statistics ---\n",
      "Q1 (25th percentile): 15.60 kWh/100 km\n",
      "Q3 (75th percentile): 23.50 kWh/100 km\n",
      "IQR: 7.90 kWh/100 km\n",
      "Lower bound (Q1 - 1.5*IQR): 3.75 kWh/100 km\n",
      "Upper bound (Q3 + 1.5*IQR): 35.35 kWh/100 km\n"
     ]
    }
   ],
   "source": [
    "import pandas as pd\n",
    "import numpy as np\n",
    "\n",
    "df = pd.read_excel(\"FEV-data-Excel.xlsx\", sheet_name=\"Auta elektryczne\")\n",
    "\n",
    "energy_consumption = df[\"mean - Energy consumption [kWh/100 km]\"].dropna()\n",
    "\n",
    "Q1 = energy_consumption.quantile(0.25)\n",
    "Q3 = energy_consumption.quantile(0.75)\n",
    "IQR = Q3 - Q1\n",
    "\n",
    "lower_bound = Q1 - 1.5 * IQR\n",
    "upper_bound = Q3 + 1.5 * IQR\n",
    "\n",
    "outliers = df[\n",
    "    (df[\"mean - Energy consumption [kWh/100 km]\"] < lower_bound) | \n",
    "    (df[\"mean - Energy consumption [kWh/100 km]\"] > upper_bound)\n",
    "]\n",
    "print(\"--- Outliers in Energy Consumption (kWh/100 km) ---\")\n",
    "print(outliers[[\"Car full name\", \"mean - Energy consumption [kWh/100 km]\"]])\n",
    "\n",
    "print(\"\\n--- Summary Statistics ---\")\n",
    "print(f\"Q1 (25th percentile): {Q1:.2f} kWh/100 km\")\n",
    "print(f\"Q3 (75th percentile): {Q3:.2f} kWh/100 km\")\n",
    "print(f\"IQR: {IQR:.2f} kWh/100 km\")\n",
    "print(f\"Lower bound (Q1 - 1.5*IQR): {lower_bound:.2f} kWh/100 km\")\n",
    "print(f\"Upper bound (Q3 + 1.5*IQR): {upper_bound:.2f} kWh/100 km\")"
   ]
  },
  {
   "cell_type": "code",
   "execution_count": null,
   "id": "6538a7bf-630a-43c7-8c28-7b5b00a8851c",
   "metadata": {},
   "outputs": [],
   "source": []
  }
 ],
 "metadata": {
  "kernelspec": {
   "display_name": "Python [conda env:base] *",
   "language": "python",
   "name": "conda-base-py"
  },
  "language_info": {
   "codemirror_mode": {
    "name": "ipython",
    "version": 3
   },
   "file_extension": ".py",
   "mimetype": "text/x-python",
   "name": "python",
   "nbconvert_exporter": "python",
   "pygments_lexer": "ipython3",
   "version": "3.12.7"
  }
 },
 "nbformat": 4,
 "nbformat_minor": 5
}
