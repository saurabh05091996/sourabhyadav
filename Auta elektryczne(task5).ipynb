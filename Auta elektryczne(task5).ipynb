{
 "cells": [
  {
   "cell_type": "code",
   "execution_count": 1,
   "id": "6a384a90-bd32-4cba-821b-bb22bf4aff98",
   "metadata": {},
   "outputs": [],
   "source": [
    "import pandas as pd\n",
    "df = pd.read_excel(\"FEV-data-Excel.xlsx\",sheet_name= \"Auta elektryczne\")"
   ]
  },
  {
   "cell_type": "code",
   "execution_count": 3,
   "id": "aaecd27d-48c4-48b5-9d91-1bd196b795ca",
   "metadata": {},
   "outputs": [
    {
     "data": {
      "text/plain": [
       "(-1.7939951827297178, 0.10684105068839565, 392.0, 533.0)"
      ]
     },
     "execution_count": 3,
     "metadata": {},
     "output_type": "execute_result"
    }
   ],
   "source": [
    "from scipy.stats import ttest_ind\n",
    "audi_power = df [df[\"Make\" ] == 'Audi']['Engine power [KM]']\n",
    "tesla_power = df[df['Make'] == 'Tesla']['Engine power [KM]']\n",
    "\n",
    "t_stat, p_value = ttest_ind(audi_power, tesla_power, equal_var=False)\n",
    "\n",
    "audi_mean = audi_power.mean()\n",
    "tesla_mean = tesla_power.mean()\n",
    "\n",
    "t_stat, p_value, audi_mean, tesla_mean"
   ]
  },
  {
   "cell_type": "code",
   "execution_count": null,
   "id": "84b63149-33ba-48a0-b609-a04bf0cfd2a6",
   "metadata": {},
   "outputs": [],
   "source": []
  }
 ],
 "metadata": {
  "kernelspec": {
   "display_name": "Python [conda env:base] *",
   "language": "python",
   "name": "conda-base-py"
  },
  "language_info": {
   "codemirror_mode": {
    "name": "ipython",
    "version": 3
   },
   "file_extension": ".py",
   "mimetype": "text/x-python",
   "name": "python",
   "nbconvert_exporter": "python",
   "pygments_lexer": "ipython3",
   "version": "3.12.7"
  }
 },
 "nbformat": 4,
 "nbformat_minor": 5
}
