{
 "cells": [
  {
   "cell_type": "code",
   "execution_count": 51,
   "id": "9ac8f6f3-cf06-4457-86ac-b0d787d383f8",
   "metadata": {},
   "outputs": [],
   "source": [
    "import pandas as pd\n",
    "df= pd.read_excel(\"FEV-data-Excel.xlsx\", sheet_name=\"Auta elektryczne\")"
   ]
  },
  {
   "cell_type": "code",
   "execution_count": 53,
   "id": "61fd3f7f-c39d-4632-a030-281d3ab2d104",
   "metadata": {},
   "outputs": [
    {
     "name": "stdout",
     "output_type": "stream",
     "text": [
      "\n",
      "Top 3 EVs for Budget: 200000 PLN, Desired Range: 400 km, Battery Capacity: 60 kWh:\n",
      "| Car full name               | Make    | Model               | Minimal price (gross) [PLN]   | Engine power [KM]   | Maximum torque [Nm]   | Type of brakes      | Drive type   | Battery capacity [kWh]   | Range (WLTP) [km]   | Wheelbase [cm]   | Length [cm]   | Width [cm]   | Height [cm]   | Minimal empty weight [kg]   | Permissable gross weight [kg]   | Maximum load capacity [kg]   | Number of seats   | Number of doors   | Tire size [in]   | Maximum speed [kph]   | Boot capacity (VDA) [l]   | Acceleration 0-100 kph [s]   | Maximum DC charging power [kW]   | mean - Energy consumption [kWh/100 km]   |\n",
      "|:----------------------------|:--------|:--------------------|:------------------------------|:--------------------|:----------------------|:--------------------|:-------------|:-------------------------|:--------------------|:-----------------|:--------------|:-------------|:--------------|:----------------------------|:--------------------------------|:-----------------------------|:------------------|:------------------|:-----------------|:----------------------|:--------------------------|:-----------------------------|:---------------------------------|:-----------------------------------------|\n",
      "| Kia e-Soul 64kWh            | Kia     | e-Soul 64kWh        | 160990                        | 204                 | 395                   | disc (front + rear) | 2WD (front)  | 64                       | 452                 | 260              | 419.5         | 180          | 160.5         | 1535                        | 1682                            | 498                          | 5                 | 5                 | 17               | 167                   | 315                       | 7.9                          | 100                              | 15.7                                     |\n",
      "| Kia e-Niro 64kWh            | Kia     | e-Niro 64kWh        | 167990                        | 204                 | 395                   | disc (front + rear) | 2WD (front)  | 64                       | 455                 | 270              | 437.5         | 180.5        | 156           | 1737                        | 2230                            | 493                          | 5                 | 5                 | 17               | 167                   | 451                       | 7.8                          | 100                              | 15.9                                     |\n",
      "| Hyundai Kona electric 64kWh | Hyundai | Kona electric 64kWh | 178400                        | 204                 | 395                   | disc (front + rear) | 2WD (front)  | 64                       | 449                 | 260              | 418           | 180          | 157           | 1685                        | 2170                            | 485                          | 5                 | 5                 | 17               | 167                   | 332                       | 7.6                          | 100                              | 15.4                                     |\n"
     ]
    }
   ],
   "source": [
    "\n",
    "class EVRecommender:\n",
    "    def __init__(self,data):\n",
    "        self.df = pd.read_excel(\"FEV-data-Excel.xlsx\", sheet_name=\"Auta elektryczne\")\n",
    "        self.data =  data\n",
    "        \n",
    "    def recommend_evs(self,budget,desired_range,battery_capacity):\n",
    "        filtered_evs = self.data[(self.data[\"Minimal price (gross) [PLN]\"]<=budget)&\n",
    "            (self.data['Range (WLTP) [km]'] >= desired_range) &\n",
    "            (self.data['Battery capacity [kWh]'] >= battery_capacity)\n",
    "        ].copy()\n",
    "\n",
    "\n",
    "        filtered_evs = filtered_evs.sort_values(\n",
    "            by=['Minimal price (gross) [PLN]', 'Range (WLTP) [km]', 'Battery capacity [kWh]'],\n",
    "            ascending=[True, False, False]\n",
    "        )\n",
    "        return filtered_evs.head(3)\n",
    "\n",
    "ev_recommender = EVRecommender(df)\n",
    "\n",
    "budget = 200000\n",
    "desired_range = 400\n",
    "battery_capacity = 60\n",
    "top_evs = ev_recommender.recommend_evs(budget, desired_range, battery_capacity)\n",
    "\n",
    "print(f\"\\nTop 3 EVs for Budget: {budget} PLN, Desired Range: {desired_range} km, Battery Capacity: {battery_capacity} kWh:\")\n",
    "print(top_evs.to_markdown(index=False, numalign=\"left\", stralign=\"left\"))"
   ]
  },
  {
   "cell_type": "code",
   "execution_count": null,
   "id": "0c06d242-5010-4c53-bfa1-f67531573a19",
   "metadata": {},
   "outputs": [],
   "source": []
  }
 ],
 "metadata": {
  "kernelspec": {
   "display_name": "Python [conda env:base] *",
   "language": "python",
   "name": "conda-base-py"
  },
  "language_info": {
   "codemirror_mode": {
    "name": "ipython",
    "version": 3
   },
   "file_extension": ".py",
   "mimetype": "text/x-python",
   "name": "python",
   "nbconvert_exporter": "python",
   "pygments_lexer": "ipython3",
   "version": "3.12.7"
  }
 },
 "nbformat": 4,
 "nbformat_minor": 5
}
